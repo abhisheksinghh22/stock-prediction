{
 "cells": [
  {
   "cell_type": "code",
   "execution_count": 1,
   "id": "abfa71fb",
   "metadata": {},
   "outputs": [],
   "source": [
    "import numpy as np\n",
    "import matplotlib.pyplot as plt\n",
    "import pandas as pd\n",
    "from sklearn.preprocessing import MinMaxScaler"
   ]
  },
  {
   "cell_type": "code",
   "execution_count": 2,
   "id": "d39a821a",
   "metadata": {},
   "outputs": [],
   "source": [
    "url = 'https://raw.githubusercontent.com/mwitiderrick/stockprice/master/NSE-TATAGLOBAL.csv'\n",
    "dataset_train = pd.read_csv(url)\n",
    "training_set = dataset_train.iloc[:, 1:2].values"
   ]
  },
  {
   "cell_type": "code",
   "execution_count": 3,
   "id": "e195c49e",
   "metadata": {},
   "outputs": [
    {
     "data": {
      "text/html": [
       "<div>\n",
       "<style scoped>\n",
       "    .dataframe tbody tr th:only-of-type {\n",
       "        vertical-align: middle;\n",
       "    }\n",
       "\n",
       "    .dataframe tbody tr th {\n",
       "        vertical-align: top;\n",
       "    }\n",
       "\n",
       "    .dataframe thead th {\n",
       "        text-align: right;\n",
       "    }\n",
       "</style>\n",
       "<table border=\"1\" class=\"dataframe\">\n",
       "  <thead>\n",
       "    <tr style=\"text-align: right;\">\n",
       "      <th></th>\n",
       "      <th>Date</th>\n",
       "      <th>Open</th>\n",
       "      <th>High</th>\n",
       "      <th>Low</th>\n",
       "      <th>Last</th>\n",
       "      <th>Close</th>\n",
       "      <th>Total Trade Quantity</th>\n",
       "      <th>Turnover (Lacs)</th>\n",
       "    </tr>\n",
       "  </thead>\n",
       "  <tbody>\n",
       "    <tr>\n",
       "      <th>0</th>\n",
       "      <td>2018-09-28</td>\n",
       "      <td>234.05</td>\n",
       "      <td>235.95</td>\n",
       "      <td>230.20</td>\n",
       "      <td>233.50</td>\n",
       "      <td>233.75</td>\n",
       "      <td>3069914</td>\n",
       "      <td>7162.35</td>\n",
       "    </tr>\n",
       "    <tr>\n",
       "      <th>1</th>\n",
       "      <td>2018-09-27</td>\n",
       "      <td>234.55</td>\n",
       "      <td>236.80</td>\n",
       "      <td>231.10</td>\n",
       "      <td>233.80</td>\n",
       "      <td>233.25</td>\n",
       "      <td>5082859</td>\n",
       "      <td>11859.95</td>\n",
       "    </tr>\n",
       "    <tr>\n",
       "      <th>2</th>\n",
       "      <td>2018-09-26</td>\n",
       "      <td>240.00</td>\n",
       "      <td>240.00</td>\n",
       "      <td>232.50</td>\n",
       "      <td>235.00</td>\n",
       "      <td>234.25</td>\n",
       "      <td>2240909</td>\n",
       "      <td>5248.60</td>\n",
       "    </tr>\n",
       "    <tr>\n",
       "      <th>3</th>\n",
       "      <td>2018-09-25</td>\n",
       "      <td>233.30</td>\n",
       "      <td>236.75</td>\n",
       "      <td>232.00</td>\n",
       "      <td>236.25</td>\n",
       "      <td>236.10</td>\n",
       "      <td>2349368</td>\n",
       "      <td>5503.90</td>\n",
       "    </tr>\n",
       "    <tr>\n",
       "      <th>4</th>\n",
       "      <td>2018-09-24</td>\n",
       "      <td>233.55</td>\n",
       "      <td>239.20</td>\n",
       "      <td>230.75</td>\n",
       "      <td>234.00</td>\n",
       "      <td>233.30</td>\n",
       "      <td>3423509</td>\n",
       "      <td>7999.55</td>\n",
       "    </tr>\n",
       "  </tbody>\n",
       "</table>\n",
       "</div>"
      ],
      "text/plain": [
       "         Date    Open    High     Low    Last   Close  Total Trade Quantity  \\\n",
       "0  2018-09-28  234.05  235.95  230.20  233.50  233.75               3069914   \n",
       "1  2018-09-27  234.55  236.80  231.10  233.80  233.25               5082859   \n",
       "2  2018-09-26  240.00  240.00  232.50  235.00  234.25               2240909   \n",
       "3  2018-09-25  233.30  236.75  232.00  236.25  236.10               2349368   \n",
       "4  2018-09-24  233.55  239.20  230.75  234.00  233.30               3423509   \n",
       "\n",
       "   Turnover (Lacs)  \n",
       "0          7162.35  \n",
       "1         11859.95  \n",
       "2          5248.60  \n",
       "3          5503.90  \n",
       "4          7999.55  "
      ]
     },
     "execution_count": 3,
     "metadata": {},
     "output_type": "execute_result"
    }
   ],
   "source": [
    "dataset_train.head()"
   ]
  },
  {
   "cell_type": "code",
   "execution_count": 4,
   "id": "717f34ee",
   "metadata": {},
   "outputs": [],
   "source": [
    "sc = MinMaxScaler(feature_range=(0,1))\n",
    "training_set_scaled = sc.fit_transform(training_set)"
   ]
  },
  {
   "cell_type": "code",
   "execution_count": 5,
   "id": "be9ffe3a",
   "metadata": {},
   "outputs": [],
   "source": [
    "X_train = []\n",
    "y_train = []\n",
    "for i in range(60, 2035):\n",
    "    X_train.append(training_set_scaled[i-60:i, 0])\n",
    "    y_train.append(training_set_scaled[i, 0])\n",
    "X_train, y_train = np.array(X_train), np.array(y_train)\n",
    "X_train = np.reshape(X_train, (X_train.shape[0], X_train.shape[1], 1))"
   ]
  },
  {
   "cell_type": "code",
   "execution_count": 6,
   "id": "eeb1b916",
   "metadata": {},
   "outputs": [],
   "source": [
    "from keras.models import Sequential\n",
    "from keras.layers import LSTM\n",
    "from keras.layers import Dropout\n",
    "from keras.layers import Dense"
   ]
  },
  {
   "cell_type": "code",
   "execution_count": 7,
   "id": "fee989c1",
   "metadata": {},
   "outputs": [
    {
     "name": "stdout",
     "output_type": "stream",
     "text": [
      "Epoch 1/40\n",
      "62/62 [==============================] - 22s 137ms/step - loss: 0.0096\n",
      "Epoch 2/40\n",
      "62/62 [==============================] - 8s 120ms/step - loss: 0.0031\n",
      "Epoch 3/40\n",
      "62/62 [==============================] - 9s 149ms/step - loss: 0.0026\n",
      "Epoch 4/40\n",
      "62/62 [==============================] - 7s 118ms/step - loss: 0.0025\n",
      "Epoch 5/40\n",
      "62/62 [==============================] - 9s 144ms/step - loss: 0.0028\n",
      "Epoch 6/40\n",
      "62/62 [==============================] - 7s 113ms/step - loss: 0.0022\n",
      "Epoch 7/40\n",
      "62/62 [==============================] - 9s 143ms/step - loss: 0.0022\n",
      "Epoch 8/40\n",
      "62/62 [==============================] - 7s 116ms/step - loss: 0.0022\n",
      "Epoch 9/40\n",
      "62/62 [==============================] - 9s 143ms/step - loss: 0.0024\n",
      "Epoch 10/40\n",
      "62/62 [==============================] - 7s 111ms/step - loss: 0.0019\n",
      "Epoch 11/40\n",
      "62/62 [==============================] - 9s 143ms/step - loss: 0.0020\n",
      "Epoch 12/40\n",
      "62/62 [==============================] - 7s 115ms/step - loss: 0.0019\n",
      "Epoch 13/40\n",
      "62/62 [==============================] - 9s 143ms/step - loss: 0.0018\n",
      "Epoch 14/40\n",
      "62/62 [==============================] - 7s 113ms/step - loss: 0.0016\n",
      "Epoch 15/40\n",
      "62/62 [==============================] - 9s 141ms/step - loss: 0.0016\n",
      "Epoch 16/40\n",
      "62/62 [==============================] - 7s 112ms/step - loss: 0.0018\n",
      "Epoch 17/40\n",
      "62/62 [==============================] - 9s 142ms/step - loss: 0.0018\n",
      "Epoch 18/40\n",
      "62/62 [==============================] - 7s 115ms/step - loss: 0.0014\n",
      "Epoch 19/40\n",
      "62/62 [==============================] - 9s 144ms/step - loss: 0.0015\n",
      "Epoch 20/40\n",
      "62/62 [==============================] - 7s 114ms/step - loss: 0.0016\n",
      "Epoch 21/40\n",
      "62/62 [==============================] - 9s 142ms/step - loss: 0.0014\n",
      "Epoch 22/40\n",
      "62/62 [==============================] - 7s 113ms/step - loss: 0.0014\n",
      "Epoch 23/40\n",
      "62/62 [==============================] - 9s 143ms/step - loss: 0.0012\n",
      "Epoch 24/40\n",
      "62/62 [==============================] - 7s 114ms/step - loss: 0.0014\n",
      "Epoch 25/40\n",
      "62/62 [==============================] - 9s 142ms/step - loss: 0.0014\n",
      "Epoch 26/40\n",
      "62/62 [==============================] - 7s 114ms/step - loss: 0.0013\n",
      "Epoch 27/40\n",
      "62/62 [==============================] - 9s 142ms/step - loss: 0.0011\n",
      "Epoch 28/40\n",
      "62/62 [==============================] - 7s 114ms/step - loss: 0.0013\n",
      "Epoch 29/40\n",
      "62/62 [==============================] - 9s 142ms/step - loss: 0.0012\n",
      "Epoch 30/40\n",
      "62/62 [==============================] - 7s 111ms/step - loss: 0.0011\n",
      "Epoch 31/40\n",
      "62/62 [==============================] - 9s 142ms/step - loss: 0.0014\n",
      "Epoch 32/40\n",
      "62/62 [==============================] - 7s 112ms/step - loss: 0.0011\n",
      "Epoch 33/40\n",
      "62/62 [==============================] - 9s 142ms/step - loss: 0.0010\n",
      "Epoch 34/40\n",
      "62/62 [==============================] - 7s 113ms/step - loss: 0.0011\n",
      "Epoch 35/40\n",
      "62/62 [==============================] - 9s 142ms/step - loss: 0.0010\n",
      "Epoch 36/40\n",
      "62/62 [==============================] - 7s 110ms/step - loss: 9.9211e-04\n",
      "Epoch 37/40\n",
      "62/62 [==============================] - 9s 142ms/step - loss: 9.3286e-04\n",
      "Epoch 38/40\n",
      "62/62 [==============================] - 7s 115ms/step - loss: 9.3726e-04\n",
      "Epoch 39/40\n",
      "62/62 [==============================] - 9s 142ms/step - loss: 0.0012\n",
      "Epoch 40/40\n",
      "62/62 [==============================] - 7s 110ms/step - loss: 9.9349e-04\n"
     ]
    },
    {
     "data": {
      "text/plain": [
       "<keras.callbacks.History at 0x1e44aa07310>"
      ]
     },
     "execution_count": 7,
     "metadata": {},
     "output_type": "execute_result"
    }
   ],
   "source": [
    "model = Sequential()\n",
    "model.add(LSTM(units=50,return_sequences=True,input_shape=(X_train.shape[1], 1)))\n",
    "model.add(Dropout(0.2))\n",
    "model.add(LSTM(units=50,return_sequences=True))\n",
    "model.add(Dropout(0.2))\n",
    "model.add(LSTM(units=50,return_sequences=True))\n",
    "model.add(Dropout(0.2))\n",
    "model.add(LSTM(units=50))\n",
    "model.add(Dropout(0.2))\n",
    "model.add(Dense(units=1))\n",
    "model.compile(optimizer='adam',loss='mean_squared_error')\n",
    "model.fit(X_train,y_train,epochs=40,batch_size=32)"
   ]
  },
  {
   "cell_type": "code",
   "execution_count": 10,
   "id": "0bc88516",
   "metadata": {},
   "outputs": [],
   "source": [
    "url = 'https://raw.githubusercontent.com/mwitiderrick/stockprice/master/tatatest.csv'\n",
    "dataset_test = pd.read_csv(url)\n",
    "real_stock_price = dataset_test.iloc[:, 1:2].values"
   ]
  },
  {
   "cell_type": "code",
   "execution_count": 12,
   "id": "1356089d",
   "metadata": {},
   "outputs": [
    {
     "name": "stdout",
     "output_type": "stream",
     "text": [
      "1/1 [==============================] - 4s 4s/step\n"
     ]
    }
   ],
   "source": [
    "dataset_total = pd.concat((dataset_train['Open'], dataset_test['Open']), axis = 0)\n",
    "inputs = dataset_total[len(dataset_total) - len(dataset_test) - 60:].values\n",
    "inputs = inputs.reshape(-1,1)\n",
    "inputs = sc.transform(inputs)\n",
    "X_test = []\n",
    "for i in range(60, 76):\n",
    "    X_test.append(inputs[i-60:i, 0])\n",
    "X_test = np.array(X_test)\n",
    "X_test = np.reshape(X_test, (X_test.shape[0], X_test.shape[1], 1))\n",
    "predicted_stock_price = model.predict(X_test)\n",
    "predicted_stock_price = sc.inverse_transform(predicted_stock_price)"
   ]
  },
  {
   "cell_type": "code",
   "execution_count": 15,
   "id": "53c57477",
   "metadata": {},
   "outputs": [
    {
     "data": {
      "image/png": "[encoded data removed]",
      "text/plain": [
       "<Figure size 432x288 with 1 Axes>"
      ]
     },
     "metadata": {
      "needs_background": "light"
     },
     "output_type": "display_data"
    }
   ],
   "source": [
    "plt.plot(real_stock_price, color = 'black', label = 'TATA Stock Price')\n",
    "plt.plot(predicted_stock_price, color = 'blue', label = 'Predicted TATA Stock Price')\n",
    "plt.title('TATA Stock Price Prediction')\n",
    "plt.xlabel('Time')\n",
    "plt.ylabel('TATA Stock Price')\n",
    "plt.legend()\n",
    "plt.show()"
   ]
  },
  {
   "cell_type": "code",
   "execution_count": null,
   "id": "b0e4353c",
   "metadata": {},
   "outputs": [],
   "source": []
  }
 ],
 "metadata": {
  "kernelspec": {
   "display_name": "Python 3",
   "language": "python",
   "name": "python3"
  },
  "language_info": {
   "codemirror_mode": {
    "name": "ipython",
    "version": 3
   },
   "file_extension": ".py",
   "mimetype": "text/x-python",
   "name": "python",
   "nbconvert_exporter": "python",
   "pygments_lexer": "ipython3",
   "version": "3.8.8"
  }
 },
 "nbformat": 4,
 "nbformat_minor": 5
}
